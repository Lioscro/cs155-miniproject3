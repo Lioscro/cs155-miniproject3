{
 "cells": [
  {
   "cell_type": "code",
   "execution_count": 1,
   "metadata": {},
   "outputs": [
    {
     "name": "stderr",
     "output_type": "stream",
     "text": [
      "Using TensorFlow backend.\n"
     ]
    }
   ],
   "source": [
    "import sys\n",
    "sys.path.append('..')\n",
    "\n",
    "import glob\n",
    "import os\n",
    "from functools import partial\n",
    "\n",
    "import numpy as np\n",
    "\n",
    "from keras.layers import Lambda\n",
    "from keras.models import clone_model\n",
    "\n",
    "from src import HMM, preprocessing, utils"
   ]
  },
  {
   "cell_type": "code",
   "execution_count": 2,
   "metadata": {},
   "outputs": [],
   "source": [
    "# try some stuff out for preprocessing\n",
    "sonnets = utils.load_shakespeare()\n",
    "\n",
    "obs_map, converted = preprocessing.create_sequences_sonnets(sonnets)"
   ]
  },
  {
   "cell_type": "code",
   "execution_count": 3,
   "metadata": {},
   "outputs": [
    {
     "name": "stdout",
     "output_type": "stream",
     "text": [
      "Iteration: 10\n",
      "Iteration: 20\n",
      "Iteration: 30\n",
      "Iteration: 40\n",
      "Iteration: 50\n",
      "Iteration: 60\n",
      "Iteration: 70\n",
      "Iteration: 80\n",
      "Iteration: 90\n",
      "Iteration: 100\n",
      "Not public by thou frown o had unless that i there rank shall in dead the cause but all my song no and the shall\n"
     ]
    }
   ],
   "source": [
    "# now that the sequences are processed, we can try to do the basic learning with the HMM\n",
    "\n",
    "hmm4 = HMM.unsupervised_HMM(converted, 8, 100)\n",
    "print(HMM.sample_sentence(hmm4, obs_map, 25))"
   ]
  },
  {
   "cell_type": "code",
   "execution_count": 6,
   "metadata": {},
   "outputs": [],
   "source": [
    "s = HMM.sample_sentence(hmm4, obs_map, 140)"
   ]
  },
  {
   "cell_type": "code",
   "execution_count": 10,
   "metadata": {},
   "outputs": [
    {
     "name": "stdout",
     "output_type": "stream",
     "text": [
      "From in me quietus eternal lies but your world methods\n",
      "wealth or quick dear that love but is at loves\n",
      "more brass said tears my by might the day to\n",
      "are eye truth neer figured i if in heaven love\n",
      "pain longer the babe to check he love to despair\n",
      "transfix me love all thine more like know mark eyes\n",
      "without mine he playst dull pomp my adoting that themselves\n",
      "you this and wrong other truth and that world who\n",
      "a lie with prison his are canst in took first\n",
      "and maketh oer o the mayst shall of injury of\n",
      "with fair art black even slave love mock these home\n",
      "by in masked when thee toil mend winters worst which\n",
      "upon nor want change counted lovely deem their eye black\n",
      "dost why all be but sun thou crowned three it\n"
     ]
    }
   ],
   "source": [
    "for i in range(14):\n",
    "    print(' '.join(s.split(' ')[i*10:(i+1)*10]))"
   ]
  },
  {
   "cell_type": "code",
   "execution_count": null,
   "metadata": {},
   "outputs": [],
   "source": []
  }
 ],
 "metadata": {
  "kernelspec": {
   "display_name": "Python 3",
   "language": "python",
   "name": "python3"
  },
  "language_info": {
   "codemirror_mode": {
    "name": "ipython",
    "version": 3
   },
   "file_extension": ".py",
   "mimetype": "text/x-python",
   "name": "python",
   "nbconvert_exporter": "python",
   "pygments_lexer": "ipython3",
   "version": "3.7.4"
  }
 },
 "nbformat": 4,
 "nbformat_minor": 4
}
