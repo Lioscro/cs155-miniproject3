{
 "cells": [
  {
   "cell_type": "code",
   "execution_count": 1,
   "metadata": {},
   "outputs": [
    {
     "name": "stderr",
     "output_type": "stream",
     "text": [
      "Using TensorFlow backend.\n"
     ]
    }
   ],
   "source": [
    "import sys\n",
    "sys.path.append('..')\n",
    "\n",
    "import glob\n",
    "import os\n",
    "from functools import partial\n",
    "\n",
    "import numpy as np\n",
    "\n",
    "from keras.layers import Lambda\n",
    "from keras.models import clone_model\n",
    "\n",
    "from src import HMM, preprocessing, utils"
   ]
  },
  {
   "cell_type": "code",
   "execution_count": 2,
   "metadata": {},
   "outputs": [],
   "source": [
    "# try some stuff out for preprocessing\n",
    "sonnets = utils.load_shakespeare()\n",
    "\n",
    "obs_map, converted = preprocessing.create_sequences_sonnets(sonnets)"
   ]
  },
  {
   "cell_type": "code",
   "execution_count": 3,
   "metadata": {},
   "outputs": [
    {
     "name": "stdout",
     "output_type": "stream",
     "text": [
      "Iteration: 10\n",
      "Iteration: 20\n",
      "Iteration: 30\n",
      "Iteration: 40\n",
      "Iteration: 50\n",
      "Iteration: 60\n",
      "Iteration: 70\n",
      "Iteration: 80\n",
      "Iteration: 90\n",
      "Iteration: 100\n",
      "And left honour then for how virtue to common with my defence that aprils gainst very of bastard full one tears slave were base knife...\n"
     ]
    }
   ],
   "source": [
    "# now that the sequences are processed, we can try to do the basic learning with the HMM\n",
    "\n",
    "hmm4 = HMM.unsupervised_HMM(converted, 4, 100)\n",
    "print(HMM.sample_sentence(hmm4, obs_map, n_words=25))"
   ]
  },
  {
   "cell_type": "code",
   "execution_count": 4,
   "metadata": {},
   "outputs": [
    {
     "name": "stdout",
     "output_type": "stream",
     "text": [
      "Such is they as account sheaves it cries thinly power...\n"
     ]
    }
   ],
   "source": [
    "print(HMM.sample_sentence(hmm4, obs_map, n_syllables=10))"
   ]
  },
  {
   "cell_type": "code",
   "execution_count": null,
   "metadata": {},
   "outputs": [],
   "source": []
  }
 ],
 "metadata": {
  "kernelspec": {
   "display_name": "Python 3",
   "language": "python",
   "name": "python3"
  },
  "language_info": {
   "codemirror_mode": {
    "name": "ipython",
    "version": 3
   },
   "file_extension": ".py",
   "mimetype": "text/x-python",
   "name": "python",
   "nbconvert_exporter": "python",
   "pygments_lexer": "ipython3",
   "version": "3.7.1"
  }
 },
 "nbformat": 4,
 "nbformat_minor": 4
}
