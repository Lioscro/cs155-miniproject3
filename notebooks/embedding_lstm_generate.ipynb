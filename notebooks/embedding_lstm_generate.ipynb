{
 "cells": [
  {
   "cell_type": "markdown",
   "metadata": {},
   "source": [
    "# Word-based Embedding LSTM: Generation"
   ]
  },
  {
   "cell_type": "code",
   "execution_count": 1,
   "metadata": {},
   "outputs": [
    {
     "name": "stderr",
     "output_type": "stream",
     "text": [
      "Using TensorFlow backend.\n"
     ]
    }
   ],
   "source": [
    "import sys\n",
    "sys.path.append('..')\n",
    "\n",
    "import glob\n",
    "import os\n",
    "from functools import partial\n",
    "\n",
    "import nltk\n",
    "import numpy as np\n",
    "\n",
    "from keras.layers import Lambda\n",
    "\n",
    "from src import models, utils"
   ]
  },
  {
   "cell_type": "code",
   "execution_count": 2,
   "metadata": {},
   "outputs": [],
   "source": [
    "# Some useful parameters\n",
    "KEY = 'embedding_lstm'\n",
    "DIR = os.path.join(utils.MODELS_DIR, KEY)"
   ]
  },
  {
   "cell_type": "markdown",
   "metadata": {},
   "source": [
    "### Load saved data"
   ]
  },
  {
   "cell_type": "code",
   "execution_count": 3,
   "metadata": {},
   "outputs": [],
   "source": [
    "# Load params.\n",
    "params = utils.load_pickle(os.path.join(DIR, 'params.pkl'))\n",
    "units = params['units']\n",
    "size = params['size']\n",
    "window_size = params['window_size']\n",
    "encoding = params['encoding']\n",
    "n_words = len(encoding)\n",
    "\n",
    "Model = partial(models.EmbeddingLSTM, units, window_size, n_words, size)"
   ]
  },
  {
   "cell_type": "code",
   "execution_count": 4,
   "metadata": {},
   "outputs": [],
   "source": [
    "# Load model with best weights\n",
    "model_path = sorted(glob.glob(os.path.join(DIR, '*.h5')))[-1]\n",
    "model = Model()\n",
    "model.load_weights(model_path)"
   ]
  },
  {
   "cell_type": "markdown",
   "metadata": {},
   "source": [
    "### Generate a sonnet"
   ]
  },
  {
   "cell_type": "code",
   "execution_count": 5,
   "metadata": {},
   "outputs": [
    {
     "name": "stderr",
     "output_type": "stream",
     "text": [
      "100%|██████████████████████████████████████████████████████████████████████████████████| 14/14 [00:00<00:00, 21.66it/s]\n"
     ]
    }
   ],
   "source": [
    "seed = nltk.word_tokenize('shall i compare thee to')\n",
    "generated = model.generate(seed, encoding)"
   ]
  },
  {
   "cell_type": "code",
   "execution_count": 6,
   "metadata": {},
   "outputs": [
    {
     "name": "stdout",
     "output_type": "stream",
     "text": [
      "shall i compare thee to my self alone \n",
      " and of be sure that is not false i swear thee gives confounds thou art \n",
      " let me for best endowed so set thou hell \n",
      " for truth and then my art 's fair doth my love receivest \n",
      " i can not blame thee for my love thou usest \n",
      " but yet be blamed if thou thy self deceivest \n",
      " by wilful taste of what thy self refusest \n",
      " i do forgive thy robbery gentle thief \n",
      " although thou steal thee all my poverty \n",
      " and yet love knows it is a greater grief \n",
      " making bear greater his thing of decease \n",
      " savage extreme beauty in bear \n",
      " more all a tattered weed \n",
      " i think the day to please him thou art bright so \n",
      "\n"
     ]
    }
   ],
   "source": [
    "print(' '.join(generated))"
   ]
  },
  {
   "cell_type": "code",
   "execution_count": null,
   "metadata": {},
   "outputs": [],
   "source": []
  }
 ],
 "metadata": {
  "kernelspec": {
   "display_name": "Python 3",
   "language": "python",
   "name": "python3"
  },
  "language_info": {
   "codemirror_mode": {
    "name": "ipython",
    "version": 3
   },
   "file_extension": ".py",
   "mimetype": "text/x-python",
   "name": "python",
   "nbconvert_exporter": "python",
   "pygments_lexer": "ipython3",
   "version": "3.7.4"
  }
 },
 "nbformat": 4,
 "nbformat_minor": 4
}
