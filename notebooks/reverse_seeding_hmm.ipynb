{
 "cells": [
  {
   "cell_type": "code",
   "execution_count": 1,
   "metadata": {},
   "outputs": [
    {
     "name": "stderr",
     "output_type": "stream",
     "text": [
      "Using TensorFlow backend.\n"
     ]
    },
    {
     "name": "stdout",
     "output_type": "stream",
     "text": [
      "[\"'greeing\", 'E1', '2']\n",
      "['a-doting', 'E2', '3']\n",
      "['acquainted', 'E2', '3']\n",
      "['amazeth', 'E2', '3']\n",
      "['another', 'E2', '3']\n",
      "['any', 'E1', '2']\n",
      "['arising', 'E2', '3']\n",
      "['assemble', 'E2', '3']\n",
      "['assured', 'E2', '3']\n",
      "['attainted', 'E2', '3']\n",
      "['bearing', 'E1', '2']\n",
      "['being', '1', '2']\n",
      "['beloved', '2', '3']\n",
      "['better', 'E1', '2']\n",
      "['bevel', 'E1', '2']\n",
      "['blindness', 'E1', '2']\n",
      "['broken', 'E1', '2']\n",
      "['buried', 'E3', '2']\n",
      "['chary', 'E1', '2']\n",
      "['cherish', 'E1', '2']\n",
      "['clearer', 'E1', '2']\n",
      "['comment', 'E1', '2']\n",
      "['committed', 'E2', '3']\n",
      "['controlling', 'E2', '3']\n",
      "['convertest', 'E2', '3']\n",
      "['correction', 'E2', '3']\n",
      "['cover', 'E1', '2']\n",
      "['created', 'E2', '3']\n",
      "['creature', 'E1', '2']\n",
      "['crowned', '1', '2']\n",
      "['cruel', 'E1', '2']\n",
      "['dearer', 'E1', '2']\n",
      "['dearly', 'E1', '2']\n",
      "['deceived', 'E2', '3']\n",
      "['deceivest', 'E2', '3']\n",
      "['defeated', 'E2', '3']\n",
      "['delighted', 'E2', '3']\n",
      "['departest', 'E2', '3']\n",
      "['deserving', 'E2', '3']\n",
      "['desired', 'E2', '3']\n",
      "['despised', 'E2', '3']\n",
      "['despising', 'E2', '3']\n",
      "['devil', 'E1', '2']\n",
      "['directed', 'E2', '3']\n",
      "['disdaineth', 'E2', '3']\n",
      "['dulness', 'E1', '2']\n",
      "['either', '1', '2']\n",
      "['esteeming', 'E2', '3']\n",
      "['even', '1', '2']\n",
      "['evil', 'E1', '2']\n",
      "['faces', 'E1', '2']\n",
      "['fashion', 'E1', '2']\n",
      "['favour', 'E1', '2']\n",
      "['feature', 'E1', '2']\n",
      "['feeding', 'E1', '2']\n",
      "['fever', 'E1', '2']\n",
      "['fitted', 'E1', '2']\n",
      "['flatter', 'E1', '2']\n",
      "['flattery', 'E3', '2']\n",
      "['flowers', '1', '2']\n",
      "['forgotten', 'E2', '3']\n",
      "['forsaken', 'E2', '3']\n",
      "['fulness', 'E1', '2']\n",
      "['gathered', 'E1', '2']\n",
      "['gazeth', 'E1', '2']\n",
      "['general', '2', '3']\n",
      "['given', '1', '2']\n",
      "['gladly', 'E1', '2']\n",
      "['glory', 'E1', '2']\n",
      "['graces', 'E1', '2']\n",
      "['gracious', 'E3', '2']\n",
      "['granting', 'E1', '2']\n",
      "['greater', '1', '2']\n",
      "['growing', 'E1', '2']\n",
      "['heaven', '1', '2']\n",
      "[\"heaven's\", '1', '2']\n",
      "['hours', '1', '2']\n",
      "['infection', 'E2', '3']\n",
      "['influence', '2', '3']\n",
      "['interest', '2', 'E3']\n",
      "['invited', 'E2', '3']\n",
      "['jewel', 'E1', '2']\n",
      "['kindness', 'E1', '2']\n",
      "['knowing', 'E1', '2']\n",
      "['leisure', 'E1', '2']\n",
      "['level', 'E1', '2']\n",
      "['longer', 'E1', '2']\n",
      "['lover', 'E1', '2']\n",
      "['loving', 'E1', '2']\n",
      "['making', 'E1', '2']\n",
      "['many', '1', '2']\n",
      "['matter', 'E1', '2']\n",
      "['measure', 'E1', '2']\n",
      "['meetness', 'E1', '2']\n",
      "['melancholy', 'E3', '4']\n",
      "['merit', 'E1', '2']\n",
      "['mistaking', 'E2', '3']\n",
      "['moment', 'E1', '2']\n",
      "['morrow', 'E1', '2']\n",
      "['mother', 'E1', '2']\n",
      "['moving', 'E1', '2']\n",
      "['nearly', 'E1', '2']\n",
      "['needing', 'E1', '2']\n",
      "['never', 'E1', '2']\n",
      "['nothing', 'E1', '2']\n",
      "['open', 'E1', '2']\n",
      "['other', 'E1', '2']\n",
      "['our', '1', '2']\n",
      "['painted', 'E1', '2']\n",
      "['passion', 'E1', '2']\n",
      "['perish', 'E1', '2']\n",
      "['perpetual', '3', 'E4']\n",
      "['pleasure', 'E1', '2']\n",
      "['possessing', 'E2', '3']\n",
      "['razed', '1', '2']\n",
      "['reason', 'E1', '2']\n",
      "['receivest', 'E2', '3']\n",
      "['refusest', 'E2', '3']\n",
      "['releasing', 'E2', '3']\n",
      "['remembered', '3', '4']\n",
      "['renewest', 'E2', '3']\n",
      "['reproving', 'E2', '3']\n",
      "['resemble', 'E2', '3']\n",
      "['rolling', 'E1', '2']\n",
      "['rotten', 'E1', '2']\n",
      "['sadly', 'E1', '2']\n",
      "['savour', 'E1', '2']\n",
      "['seeing', 'E1', '2']\n",
      "['seeming', 'E1', '2']\n",
      "['shaken', 'E1', '2']\n",
      "['smother', 'E1', '2']\n",
      "['sorrow', 'E1', '2']\n",
      "['spirit', '1', '2']\n",
      "['staineth', 'E1', '2']\n",
      "['story', 'E1', '2']\n",
      "['stronger', 'E1', '2']\n",
      "['supposed', '2', '3']\n",
      "['swearing', 'E1', '2']\n",
      "['sweetness', 'E1', '2']\n",
      "['swerving', 'E1', '2']\n",
      "['taken', 'E1', '2']\n",
      "['tendered', 'E1', '2']\n",
      "['tired', '1', '2']\n",
      "['treason', 'E1', '2']\n",
      "['treasure', 'E1', '2']\n",
      "['unfathered', 'E2', '3']\n",
      "['unrespected', 'E3', '4']\n",
      "['unused', '2', '3']\n",
      "['used', '1', '2']\n",
      "['usest', 'E1', '2']\n",
      "['viewest', 'E1', '2']\n",
      "['wanting', 'E1', '2']\n",
      "['wary', 'E1', '2']\n",
      "['whether', '1', '2']\n"
     ]
    },
    {
     "name": "stderr",
     "output_type": "stream",
     "text": [
      "[nltk_data] Downloading package cmudict to\n",
      "[nltk_data]     /Users/muhammad/nltk_data...\n",
      "[nltk_data]   Package cmudict is already up-to-date!\n"
     ]
    }
   ],
   "source": [
    "import sys\n",
    "sys.path.append('..')\n",
    "\n",
    "import glob\n",
    "import os\n",
    "from functools import partial\n",
    "\n",
    "import numpy as np\n",
    "\n",
    "from keras.layers import Lambda\n",
    "from keras.models import clone_model\n",
    "\n",
    "from src import HMM, preprocessing, utils, rhyme"
   ]
  },
  {
   "cell_type": "code",
   "execution_count": 2,
   "metadata": {},
   "outputs": [
    {
     "name": "stdout",
     "output_type": "stream",
     "text": [
      "Some weird sonnet appeared with length 15!\n",
      "Some weird sonnet appeared with length 12!\n"
     ]
    }
   ],
   "source": [
    "# try some stuff out for preprocessing\n",
    "sonnets = utils.load_shakespeare()\n",
    "\n",
    "\n",
    "all_rhymes = rhyme.get_individual_rhymes(sonnets)\n",
    "\n",
    "obs_map, converted = preprocessing.create_sequences_sonnets(sonnets)"
   ]
  },
  {
   "cell_type": "code",
   "execution_count": 19,
   "metadata": {},
   "outputs": [
    {
     "name": "stdout",
     "output_type": "stream",
     "text": [
      "Iteration: 10\n",
      "Iteration: 20\n",
      "Iteration: 30\n",
      "Iteration: 40\n",
      "Iteration: 50\n",
      "Iteration: 60\n",
      "Iteration: 70\n",
      "Iteration: 80\n",
      "Iteration: 90\n",
      "Iteration: 100\n"
     ]
    }
   ],
   "source": [
    "# now that the sequences are processed, we can try to do the basic learning with the HMM\n",
    "\n",
    "hmm4 = HMM.unsupervised_HMM(converted, 4, 100)"
   ]
  },
  {
   "cell_type": "code",
   "execution_count": 20,
   "metadata": {
    "scrolled": false
   },
   "outputs": [],
   "source": [
    "test_sonnet = HMM.sample_sonnet(hmm4, obs_map, all_rhymes)"
   ]
  },
  {
   "cell_type": "code",
   "execution_count": 21,
   "metadata": {},
   "outputs": [
    {
     "name": "stdout",
     "output_type": "stream",
     "text": [
      "Their my make with dispatch she on and down\n",
      "Worst constancy when since tell coming last\n",
      "Anon dost my write wooing story frown\n",
      "Old cupid yet something think write to taste\n",
      "How double to still new you ending go\n",
      "From still or o to me in lost compile\n",
      "Disposed in side thine away hast it grow\n",
      "It in therefore gentlest ill delight style\n",
      "Ride repair winds than leave to make checked cheeks\n",
      "Should conscience besiege with me mine as hope\n",
      "Fools in spirit not nor should me view weeks\n",
      "That knife thy immured i in dun scope\n",
      "A is not is brought by blessed subsist\n",
      "Their and in shadow i most song not missed\n"
     ]
    }
   ],
   "source": [
    "# try to generate the rhymes\n",
    "for line in test_sonnet:\n",
    "    print(line)"
   ]
  }
 ],
 "metadata": {
  "kernelspec": {
   "display_name": "Python 3",
   "language": "python",
   "name": "python3"
  },
  "language_info": {
   "codemirror_mode": {
    "name": "ipython",
    "version": 3
   },
   "file_extension": ".py",
   "mimetype": "text/x-python",
   "name": "python",
   "nbconvert_exporter": "python",
   "pygments_lexer": "ipython3",
   "version": "3.7.1"
  }
 },
 "nbformat": 4,
 "nbformat_minor": 4
}
