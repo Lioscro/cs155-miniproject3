{
 "cells": [
  {
   "cell_type": "markdown",
   "metadata": {},
   "source": [
    "# Character-based LSTM: Generation"
   ]
  },
  {
   "cell_type": "code",
   "execution_count": 1,
   "metadata": {},
   "outputs": [
    {
     "name": "stderr",
     "output_type": "stream",
     "text": [
      "Using TensorFlow backend.\n"
     ]
    }
   ],
   "source": [
    "import sys\n",
    "sys.path.append('..')\n",
    "\n",
    "import glob\n",
    "import os\n",
    "from functools import partial\n",
    "\n",
    "import nltk\n",
    "import numpy as np\n",
    "\n",
    "from keras.layers import Lambda\n",
    "from keras.models import clone_model\n",
    "\n",
    "from src import models, utils"
   ]
  },
  {
   "cell_type": "code",
   "execution_count": 2,
   "metadata": {},
   "outputs": [],
   "source": [
    "# Some useful parameters\n",
    "KEY = 'word2vec_lstm'\n",
    "DIR = os.path.join(utils.MODELS_DIR, KEY)"
   ]
  },
  {
   "cell_type": "markdown",
   "metadata": {},
   "source": [
    "### Load saved data"
   ]
  },
  {
   "cell_type": "code",
   "execution_count": 3,
   "metadata": {},
   "outputs": [],
   "source": [
    "# Load params.\n",
    "params = utils.load_pickle(os.path.join(DIR, 'params.pkl'))\n",
    "units = params['units']\n",
    "size = params['size']\n",
    "sg = params['sg']\n",
    "iter = params['iter']\n",
    "window = params['window']\n",
    "window_size = params['window_size']\n",
    "encoding = params['encoding']\n",
    "\n",
    "Model = partial(models.WordLSTM, units, window_size, size)"
   ]
  },
  {
   "cell_type": "code",
   "execution_count": 4,
   "metadata": {},
   "outputs": [],
   "source": [
    "# Load model with best weights\n",
    "model_path = sorted(glob.glob(os.path.join(DIR, '*.h5')))[-1]\n",
    "model = Model()\n",
    "model.load_weights(model_path)"
   ]
  },
  {
   "cell_type": "markdown",
   "metadata": {},
   "source": [
    "### Generate a sonnet"
   ]
  },
  {
   "cell_type": "code",
   "execution_count": 6,
   "metadata": {},
   "outputs": [],
   "source": [
    "seed = nltk.word_tokenize('shall i compare thee to a summer\\'s day?\\n') + ['\\n']\n",
    "n_words = len(encoding.vocab)\n",
    "X = np.array([encoding[word] for word in seed])\n",
    "generated = seed.copy()\n",
    "\n",
    "count = generated.count('\\n')\n",
    "for i in range(100):\n",
    "    predicted = model.predict(np.expand_dims(X, 0)).flatten()\n",
    "\n",
    "    # Find word that is closest to predicted encoding.\n",
    "    choice = encoding.similar_by_vector(predicted, topn=1)[0][0]\n",
    "    generated.append(choice)\n",
    "\n",
    "    # \"Push back\" X by one and add new prediction to the end.\n",
    "    X[:X.shape[0]-1] = X[1:]\n",
    "    X[-1] = encoding[choice]\n",
    "\n",
    "    count = generated.count('\\n')"
   ]
  },
  {
   "cell_type": "code",
   "execution_count": 7,
   "metadata": {},
   "outputs": [
    {
     "data": {
      "text/plain": [
       "['shall',\n",
       " 'i',\n",
       " 'compare',\n",
       " 'thee',\n",
       " 'to',\n",
       " 'a',\n",
       " 'summer',\n",
       " \"'s\",\n",
       " 'day',\n",
       " '?',\n",
       " '\\n',\n",
       " 'impute',\n",
       " 'sold',\n",
       " 'sold',\n",
       " 'thoughts',\n",
       " 'confound',\n",
       " 'fight',\n",
       " 'instinct',\n",
       " 'against',\n",
       " 'come',\n",
       " 'fight',\n",
       " 'goodness',\n",
       " 'only',\n",
       " 'goodness',\n",
       " 'only',\n",
       " 'goodness',\n",
       " 'now',\n",
       " 'thousand',\n",
       " 'advantage',\n",
       " 'advantage',\n",
       " 'advantage',\n",
       " 'advantage',\n",
       " 'advantage',\n",
       " 'fearfully',\n",
       " 'mountain',\n",
       " 'on',\n",
       " 'besiege',\n",
       " 'fearfully',\n",
       " 'oblivion',\n",
       " 'same',\n",
       " 'same',\n",
       " 'same',\n",
       " 'same',\n",
       " 'same',\n",
       " 'plague',\n",
       " 'seeing',\n",
       " 'golden',\n",
       " 'seeing',\n",
       " 'wretch',\n",
       " 'partly',\n",
       " 'laid',\n",
       " 'pupil',\n",
       " 'dreaming',\n",
       " 'plague',\n",
       " 'seeing',\n",
       " 'warrantise',\n",
       " 'time',\n",
       " 'plague',\n",
       " 'plague',\n",
       " 'seeing',\n",
       " 'his',\n",
       " 'wretch',\n",
       " 'partly',\n",
       " 'instinct',\n",
       " 'his',\n",
       " 'audit',\n",
       " 'come',\n",
       " 'his',\n",
       " 'doctor-like',\n",
       " 'ocean',\n",
       " 'quest',\n",
       " 'famoused',\n",
       " 'hoisted',\n",
       " 'fight',\n",
       " 'goodness',\n",
       " 'goodness',\n",
       " 'goodness',\n",
       " 'goodness',\n",
       " 'goodness',\n",
       " 'goodness',\n",
       " 'goodness',\n",
       " 'his',\n",
       " 'vow',\n",
       " 'fight',\n",
       " 'fight',\n",
       " 'bare',\n",
       " 'against',\n",
       " 'goodness',\n",
       " 'golden',\n",
       " 'golden',\n",
       " 'his',\n",
       " 'hung',\n",
       " 'robe',\n",
       " 'fight',\n",
       " 'flourish',\n",
       " 'fight',\n",
       " 'golden',\n",
       " 'against',\n",
       " 'come',\n",
       " 'medicine',\n",
       " 'fairly',\n",
       " 'healthful',\n",
       " 'heart-inflaming',\n",
       " 'fearfully',\n",
       " 'seeing',\n",
       " 'purity',\n",
       " 'fearfully',\n",
       " 'fearfully',\n",
       " 'plague',\n",
       " 'goodness',\n",
       " 'sold']"
      ]
     },
     "execution_count": 7,
     "metadata": {},
     "output_type": "execute_result"
    }
   ],
   "source": [
    "generated"
   ]
  },
  {
   "cell_type": "code",
   "execution_count": 6,
   "metadata": {},
   "outputs": [
    {
     "name": "stdout",
     "output_type": "stream",
     "text": [
      "shall i compare thee to a summer's day?\n",
      "thou art more lovely and more temperate:\n",
      "rough winds do shake the darling buds of may,\n",
      "and summer's lease hath all too short a date:\n",
      "sometime too hot the eye of heaven's sun!\n",
      "but you like none, in not so stould thee,\n",
      "as tho eners the cunch not wail thee defeats,\n",
      "though thou dost fuirts and wranting sgilled:\n",
      "in praise of ladies dead, and lovely knights,\n",
      "then in the blazon of sweet beauty's best,\n",
      "of hand, of foot, of lip, of endlinged,\n",
      "or ell-vore's deceive the dord of mine,\n",
      "so then though in my hold a summer's time\n",
      "to what the will come, what steals me not,\n",
      "\n"
     ]
    }
   ],
   "source": [
    "print(s)"
   ]
  },
  {
   "cell_type": "markdown",
   "metadata": {},
   "source": [
    "### Add temperature to the model"
   ]
  },
  {
   "cell_type": "code",
   "execution_count": 7,
   "metadata": {},
   "outputs": [
    {
     "name": "stderr",
     "output_type": "stream",
     "text": [
      "100%|██████████████████████████████████████████████████████████████████████████████████| 14/14 [00:09<00:00,  1.55it/s]\n",
      "100%|██████████████████████████████████████████████████████████████████████████████████| 14/14 [00:08<00:00,  1.64it/s]\n",
      "100%|██████████████████████████████████████████████████████████████████████████████████| 14/14 [00:08<00:00,  1.66it/s]\n"
     ]
    }
   ],
   "source": [
    "temperatures = [0.25, 0.75, 1.5]\n",
    "ss = []\n",
    "for t in temperatures:\n",
    "    t_model = Model(temperature=t)\n",
    "    t_model.load_weights(model_path)\n",
    "\n",
    "    ss.append(t_model.generate(seed, char_to_dim, dim_to_char))"
   ]
  },
  {
   "cell_type": "code",
   "execution_count": 8,
   "metadata": {},
   "outputs": [
    {
     "name": "stdout",
     "output_type": "stream",
     "text": [
      "temperature=0.25\n",
      "shall i compare thee to a summer's day?\n",
      "thou art more lovely and more temperate:\n",
      "rough winds do shake the darling buds of may,\n",
      "and summer's lease hath all too short a date:\n",
      "sometime too hot the eye of heaven's sween.\n",
      "thy love is better than high birth to me,\n",
      "richer than wealth, prouder than garments' costs,\n",
      "of more delight than hawks and horses be:\n",
      "and having thee, of all men's pride i boast.\n",
      "wretched in this alone, that thou mayst take,\n",
      "all this with thee say my self i do, doth day,\n",
      "that you and that which it was nourished by.\n",
      "this thou perceiv'st, which makes thy love more strong,\n",
      "to love that well, which thou must leave ere long.\n",
      "\n",
      "temperature=0.75\n",
      "shall i compare thee to a summer's day?\n",
      "thou art more lovely and more temperate:\n",
      "rough winds do shake the darling buds of may,\n",
      "and summer's lease hath all too short a date:\n",
      "sometime too hot the eye of heaven shines,\n",
      "and often is his gold complexion dimmed,\n",
      "and every fair from fair sometime declines,\n",
      "by chance, or nature's changing course untrimmed:\n",
      "but thou the tenth muse, tenlity perse bed,\n",
      "my heavy i not loves the conyres new.\n",
      "some in their hawks and hounds, some in their horse.\n",
      "and every humour hath his ausure me shy be,\n",
      "to live a second life on second head,\n",
      "ere beauty's dead fleece made another gay:\n",
      "\n",
      "temperature=1.5\n",
      "shall i compare thee to a summer's day?\n",
      "thou art more lovely have in this line removed,\n",
      "when i an all-loses in their gazing stome,\n",
      "'trince for whose antequest, that i call,\n",
      "her love, for whose dear love i rise and fall.\n",
      "so should that hand that hone, and there:\n",
      "such present-blessed than my barren rage,\n",
      "but making and sit, and cannot comes have,\n",
      "the mouths proud again what is alre:\n",
      "thr virtures loved not speak illo shower,\n",
      "to art a fach so true in a lively pride,\n",
      "all tongues to prove thy consure's yeuli!\n",
      "and what is't but the spein, which yet is all,\n",
      "up me that sad more presong bright incrown,\n",
      "\n"
     ]
    }
   ],
   "source": [
    "for t, s in zip(temperatures, ss):\n",
    "    print(f'temperature={t}')\n",
    "    print(s)"
   ]
  },
  {
   "cell_type": "code",
   "execution_count": null,
   "metadata": {},
   "outputs": [],
   "source": []
  }
 ],
 "metadata": {
  "kernelspec": {
   "display_name": "Python 3",
   "language": "python",
   "name": "python3"
  },
  "language_info": {
   "codemirror_mode": {
    "name": "ipython",
    "version": 3
   },
   "file_extension": ".py",
   "mimetype": "text/x-python",
   "name": "python",
   "nbconvert_exporter": "python",
   "pygments_lexer": "ipython3",
   "version": "3.7.4"
  }
 },
 "nbformat": 4,
 "nbformat_minor": 4
}
