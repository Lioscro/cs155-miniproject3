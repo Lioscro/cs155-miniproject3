{
 "cells": [
  {
   "cell_type": "code",
   "execution_count": 1,
   "metadata": {},
   "outputs": [
    {
     "name": "stderr",
     "output_type": "stream",
     "text": [
      "Using TensorFlow backend.\n"
     ]
    }
   ],
   "source": [
    "import sys\n",
    "sys.path.append('..')\n",
    "\n",
    "import os\n",
    "\n",
    "import numpy as np\n",
    "\n",
    "from keras.optimizers import Nadam\n",
    "from keras.callbacks import ModelCheckpoint, EarlyStopping\n",
    "\n",
    "from src import models, preprocessing, utils"
   ]
  },
  {
   "cell_type": "code",
   "execution_count": 2,
   "metadata": {},
   "outputs": [],
   "source": [
    "# Some useful parameters\n",
    "KEY = 'word2vec_lstm'\n",
    "DIR = os.path.join(utils.MODELS_DIR, KEY)\n",
    "\n",
    "# Word2Vec parameters\n",
    "size = 50      # dimensions of embedding space\n",
    "window = 5     # number of words for Word2Vec\n",
    "sg = 1         # whether to use skip-gram model (0: CBOW)\n",
    "iter = 100     # number of epochs\n",
    "\n",
    "# LSTM parameters\n",
    "units = 1024\n",
    "window_size = 11  # number of words for LSTM"
   ]
  },
  {
   "cell_type": "markdown",
   "metadata": {},
   "source": [
    "### Load data"
   ]
  },
  {
   "cell_type": "code",
   "execution_count": 3,
   "metadata": {},
   "outputs": [],
   "source": [
    "sonnets = utils.load_shakespeare()"
   ]
  },
  {
   "cell_type": "markdown",
   "metadata": {},
   "source": [
    "### Pre-processing\n",
    "\n",
    "Since we are training a character-based LSTM, we just need to map each character to a dimension."
   ]
  },
  {
   "cell_type": "code",
   "execution_count": 4,
   "metadata": {},
   "outputs": [
    {
     "name": "stderr",
     "output_type": "stream",
     "text": [
      "[nltk_data] Downloading package punkt to\n",
      "[nltk_data]     C:\\Users\\Joseph\\AppData\\Roaming\\nltk_data...\n",
      "[nltk_data]   Package punkt is already up-to-date!\n"
     ]
    }
   ],
   "source": [
    "encoding, encoded_sonnets = preprocessing.encode_words_word2vec(\n",
    "    sonnets, size=size, window=window, sg=sg, iter=iter, workers=8\n",
    ")\n",
    "n_words = len(encoding.vocab)"
   ]
  },
  {
   "cell_type": "code",
   "execution_count": 5,
   "metadata": {},
   "outputs": [],
   "source": [
    "# Generate training data.\n",
    "X = []\n",
    "Y = []\n",
    "for sonnet in encoded_sonnets:\n",
    "    x = np.zeros((len(sonnet) - window_size, window_size, size))\n",
    "    y = np.zeros((len(sonnet) - window_size, size))\n",
    "    \n",
    "    for i in range(len(sonnet) - window_size):\n",
    "        x[i] = sonnet[i:i+window_size]\n",
    "        y[i] = sonnet[i+window_size]\n",
    "    X.append(x)\n",
    "    Y.append(y)\n",
    "X = np.vstack(X)\n",
    "Y = np.vstack(Y)"
   ]
  },
  {
   "cell_type": "markdown",
   "metadata": {},
   "source": [
    "### Define model"
   ]
  },
  {
   "cell_type": "code",
   "execution_count": 6,
   "metadata": {},
   "outputs": [],
   "source": [
    "# Save model parameters.\n",
    "params = {\n",
    "    'units': units,\n",
    "    'size': size,\n",
    "    'sg': sg,\n",
    "    'iter': iter,\n",
    "    'window': window,\n",
    "    'window_size': window_size,\n",
    "    'encoding': encoding\n",
    "}\n",
    "utils.save_pickle(params, os.path.join(DIR, 'params.pkl'))"
   ]
  },
  {
   "cell_type": "code",
   "execution_count": 8,
   "metadata": {},
   "outputs": [],
   "source": [
    "model = models.WordLSTM(units, window_size, size)\n",
    "model.compile(loss='mse', optimizer='adam')"
   ]
  },
  {
   "cell_type": "code",
   "execution_count": 9,
   "metadata": {},
   "outputs": [
    {
     "name": "stdout",
     "output_type": "stream",
     "text": [
      "Epoch 1/1000\n",
      "20846/20846 [==============================] - 7s 322us/step - loss: 0.0488\n",
      "\n",
      "Epoch 00001: loss improved from inf to 0.04876, saving model to C:\\Users\\Joseph\\Documents\\GitHub\\cs155-miniproject3\\models\\word2vec_lstm\\model-001-0.0488.h5\n",
      "Epoch 2/1000\n",
      "20846/20846 [==============================] - 6s 301us/step - loss: 0.0485\n",
      "\n",
      "Epoch 00002: loss improved from 0.04876 to 0.04850, saving model to C:\\Users\\Joseph\\Documents\\GitHub\\cs155-miniproject3\\models\\word2vec_lstm\\model-002-0.0485.h5\n",
      "Epoch 3/1000\n",
      "20846/20846 [==============================] - 6s 294us/step - loss: 0.0484\n",
      "\n",
      "Epoch 00003: loss improved from 0.04850 to 0.04843, saving model to C:\\Users\\Joseph\\Documents\\GitHub\\cs155-miniproject3\\models\\word2vec_lstm\\model-003-0.0484.h5\n",
      "Epoch 4/1000\n",
      "20846/20846 [==============================] - 6s 294us/step - loss: 0.0484\n",
      "\n",
      "Epoch 00004: loss improved from 0.04843 to 0.04836, saving model to C:\\Users\\Joseph\\Documents\\GitHub\\cs155-miniproject3\\models\\word2vec_lstm\\model-004-0.0484.h5\n",
      "Epoch 5/1000\n",
      "20846/20846 [==============================] - 6s 297us/step - loss: 0.0483\n",
      "\n",
      "Epoch 00005: loss improved from 0.04836 to 0.04832, saving model to C:\\Users\\Joseph\\Documents\\GitHub\\cs155-miniproject3\\models\\word2vec_lstm\\model-005-0.0483.h5\n",
      "Epoch 6/1000\n",
      "20846/20846 [==============================] - 6s 298us/step - loss: 0.0483\n",
      "\n",
      "Epoch 00006: loss improved from 0.04832 to 0.04826, saving model to C:\\Users\\Joseph\\Documents\\GitHub\\cs155-miniproject3\\models\\word2vec_lstm\\model-006-0.0483.h5\n",
      "Epoch 7/1000\n",
      "20846/20846 [==============================] - 6s 301us/step - loss: 0.0482\n",
      "\n",
      "Epoch 00007: loss improved from 0.04826 to 0.04822, saving model to C:\\Users\\Joseph\\Documents\\GitHub\\cs155-miniproject3\\models\\word2vec_lstm\\model-007-0.0482.h5\n",
      "Epoch 8/1000\n",
      "20846/20846 [==============================] - 6s 312us/step - loss: 0.0481\n",
      "\n",
      "Epoch 00008: loss improved from 0.04822 to 0.04814, saving model to C:\\Users\\Joseph\\Documents\\GitHub\\cs155-miniproject3\\models\\word2vec_lstm\\model-008-0.0481.h5\n",
      "Epoch 9/1000\n",
      "20846/20846 [==============================] - 6s 296us/step - loss: 0.0481\n",
      "\n",
      "Epoch 00009: loss improved from 0.04814 to 0.04807, saving model to C:\\Users\\Joseph\\Documents\\GitHub\\cs155-miniproject3\\models\\word2vec_lstm\\model-009-0.0481.h5\n",
      "Epoch 10/1000\n",
      "20846/20846 [==============================] - 6s 294us/step - loss: 0.0480\n",
      "\n",
      "Epoch 00010: loss improved from 0.04807 to 0.04798, saving model to C:\\Users\\Joseph\\Documents\\GitHub\\cs155-miniproject3\\models\\word2vec_lstm\\model-010-0.0480.h5\n",
      "Epoch 11/1000\n",
      "20846/20846 [==============================] - 6s 294us/step - loss: 0.0479\n",
      "\n",
      "Epoch 00011: loss improved from 0.04798 to 0.04785, saving model to C:\\Users\\Joseph\\Documents\\GitHub\\cs155-miniproject3\\models\\word2vec_lstm\\model-011-0.0479.h5\n",
      "Epoch 12/1000\n",
      "20846/20846 [==============================] - 6s 294us/step - loss: 0.0477\n",
      "\n",
      "Epoch 00012: loss improved from 0.04785 to 0.04770, saving model to C:\\Users\\Joseph\\Documents\\GitHub\\cs155-miniproject3\\models\\word2vec_lstm\\model-012-0.0477.h5\n",
      "Epoch 13/1000\n",
      "20846/20846 [==============================] - 6s 303us/step - loss: 0.0475\n",
      "\n",
      "Epoch 00013: loss improved from 0.04770 to 0.04749, saving model to C:\\Users\\Joseph\\Documents\\GitHub\\cs155-miniproject3\\models\\word2vec_lstm\\model-013-0.0475.h5\n",
      "Epoch 14/1000\n",
      "20846/20846 [==============================] - 6s 294us/step - loss: 0.0472\n",
      "\n",
      "Epoch 00014: loss improved from 0.04749 to 0.04720, saving model to C:\\Users\\Joseph\\Documents\\GitHub\\cs155-miniproject3\\models\\word2vec_lstm\\model-014-0.0472.h5\n",
      "Epoch 15/1000\n",
      "20846/20846 [==============================] - 6s 302us/step - loss: 0.0468\n",
      "\n",
      "Epoch 00015: loss improved from 0.04720 to 0.04681, saving model to C:\\Users\\Joseph\\Documents\\GitHub\\cs155-miniproject3\\models\\word2vec_lstm\\model-015-0.0468.h5\n",
      "Epoch 16/1000\n",
      "20846/20846 [==============================] - 6s 294us/step - loss: 0.0463\n",
      "\n",
      "Epoch 00016: loss improved from 0.04681 to 0.04628, saving model to C:\\Users\\Joseph\\Documents\\GitHub\\cs155-miniproject3\\models\\word2vec_lstm\\model-016-0.0463.h5\n",
      "Epoch 17/1000\n",
      "20846/20846 [==============================] - 6s 293us/step - loss: 0.0456\n",
      "\n",
      "Epoch 00017: loss improved from 0.04628 to 0.04557, saving model to C:\\Users\\Joseph\\Documents\\GitHub\\cs155-miniproject3\\models\\word2vec_lstm\\model-017-0.0456.h5\n",
      "Epoch 18/1000\n",
      "20846/20846 [==============================] - 6s 294us/step - loss: 0.0447\n",
      "\n",
      "Epoch 00018: loss improved from 0.04557 to 0.04474, saving model to C:\\Users\\Joseph\\Documents\\GitHub\\cs155-miniproject3\\models\\word2vec_lstm\\model-018-0.0447.h5\n",
      "Epoch 19/1000\n",
      "20846/20846 [==============================] - 6s 294us/step - loss: 0.0438\n",
      "\n",
      "Epoch 00019: loss improved from 0.04474 to 0.04383, saving model to C:\\Users\\Joseph\\Documents\\GitHub\\cs155-miniproject3\\models\\word2vec_lstm\\model-019-0.0438.h5\n",
      "Epoch 20/1000\n",
      "20846/20846 [==============================] - 6s 284us/step - loss: 0.0429\n",
      "\n",
      "Epoch 00020: loss improved from 0.04383 to 0.04291, saving model to C:\\Users\\Joseph\\Documents\\GitHub\\cs155-miniproject3\\models\\word2vec_lstm\\model-020-0.0429.h5\n",
      "Epoch 21/1000\n",
      "20846/20846 [==============================] - 6s 293us/step - loss: 0.0421\n",
      "\n",
      "Epoch 00021: loss improved from 0.04291 to 0.04211, saving model to C:\\Users\\Joseph\\Documents\\GitHub\\cs155-miniproject3\\models\\word2vec_lstm\\model-021-0.0421.h5\n",
      "Epoch 22/1000\n",
      "20846/20846 [==============================] - 6s 295us/step - loss: 0.0414\n",
      "\n",
      "Epoch 00022: loss improved from 0.04211 to 0.04139, saving model to C:\\Users\\Joseph\\Documents\\GitHub\\cs155-miniproject3\\models\\word2vec_lstm\\model-022-0.0414.h5\n",
      "Epoch 23/1000\n",
      "20846/20846 [==============================] - 6s 295us/step - loss: 0.0408\n",
      "\n",
      "Epoch 00023: loss improved from 0.04139 to 0.04082, saving model to C:\\Users\\Joseph\\Documents\\GitHub\\cs155-miniproject3\\models\\word2vec_lstm\\model-023-0.0408.h5\n",
      "Epoch 24/1000\n",
      "20846/20846 [==============================] - 6s 302us/step - loss: 0.0403\n",
      "\n",
      "Epoch 00024: loss improved from 0.04082 to 0.04034, saving model to C:\\Users\\Joseph\\Documents\\GitHub\\cs155-miniproject3\\models\\word2vec_lstm\\model-024-0.0403.h5\n",
      "Epoch 25/1000\n",
      "20846/20846 [==============================] - 6s 296us/step - loss: 0.0400\n",
      "\n",
      "Epoch 00025: loss improved from 0.04034 to 0.04000, saving model to C:\\Users\\Joseph\\Documents\\GitHub\\cs155-miniproject3\\models\\word2vec_lstm\\model-025-0.0400.h5\n",
      "Epoch 26/1000\n",
      "20846/20846 [==============================] - 6s 293us/step - loss: 0.0398\n",
      "\n",
      "Epoch 00026: loss improved from 0.04000 to 0.03978, saving model to C:\\Users\\Joseph\\Documents\\GitHub\\cs155-miniproject3\\models\\word2vec_lstm\\model-026-0.0398.h5\n",
      "Epoch 27/1000\n",
      "20846/20846 [==============================] - 6s 298us/step - loss: 0.0395\n",
      "\n",
      "Epoch 00027: loss improved from 0.03978 to 0.03950, saving model to C:\\Users\\Joseph\\Documents\\GitHub\\cs155-miniproject3\\models\\word2vec_lstm\\model-027-0.0395.h5\n",
      "Epoch 28/1000\n",
      "20846/20846 [==============================] - 6s 294us/step - loss: 0.0393\n",
      "\n",
      "Epoch 00028: loss improved from 0.03950 to 0.03932, saving model to C:\\Users\\Joseph\\Documents\\GitHub\\cs155-miniproject3\\models\\word2vec_lstm\\model-028-0.0393.h5\n",
      "Epoch 29/1000\n",
      "20846/20846 [==============================] - 6s 301us/step - loss: 0.0392\n",
      "\n",
      "Epoch 00029: loss improved from 0.03932 to 0.03917, saving model to C:\\Users\\Joseph\\Documents\\GitHub\\cs155-miniproject3\\models\\word2vec_lstm\\model-029-0.0392.h5\n",
      "Epoch 30/1000\n",
      "16000/20846 [======================>.......] - ETA: 1s - loss: 0.0388"
     ]
    },
    {
     "ename": "KeyboardInterrupt",
     "evalue": "",
     "output_type": "error",
     "traceback": [
      "\u001b[1;31m---------------------------------------------------------------------------\u001b[0m",
      "\u001b[1;31mKeyboardInterrupt\u001b[0m                         Traceback (most recent call last)",
      "\u001b[1;32m<ipython-input-9-35c01525659e>\u001b[0m in \u001b[0;36m<module>\u001b[1;34m\u001b[0m\n\u001b[0;32m      4\u001b[0m \u001b[1;31m# Early stopping condition. Stop when loss has stopped decreasing for 10 epochs.\u001b[0m\u001b[1;33m\u001b[0m\u001b[1;33m\u001b[0m\u001b[1;33m\u001b[0m\u001b[0m\n\u001b[0;32m      5\u001b[0m \u001b[0mes\u001b[0m \u001b[1;33m=\u001b[0m \u001b[0mEarlyStopping\u001b[0m\u001b[1;33m(\u001b[0m\u001b[0mmonitor\u001b[0m\u001b[1;33m=\u001b[0m\u001b[1;34m'loss'\u001b[0m\u001b[1;33m,\u001b[0m \u001b[0mmode\u001b[0m\u001b[1;33m=\u001b[0m\u001b[1;34m'min'\u001b[0m\u001b[1;33m,\u001b[0m \u001b[0mverbose\u001b[0m\u001b[1;33m=\u001b[0m\u001b[1;36m1\u001b[0m\u001b[1;33m,\u001b[0m \u001b[0mpatience\u001b[0m\u001b[1;33m=\u001b[0m\u001b[1;36m10\u001b[0m\u001b[1;33m)\u001b[0m\u001b[1;33m\u001b[0m\u001b[1;33m\u001b[0m\u001b[0m\n\u001b[1;32m----> 6\u001b[1;33m \u001b[0mmodel\u001b[0m\u001b[1;33m.\u001b[0m\u001b[0mfit\u001b[0m\u001b[1;33m(\u001b[0m\u001b[0mX\u001b[0m\u001b[1;33m,\u001b[0m \u001b[0mY\u001b[0m\u001b[1;33m,\u001b[0m \u001b[0mepochs\u001b[0m\u001b[1;33m=\u001b[0m\u001b[1;36m1000\u001b[0m\u001b[1;33m,\u001b[0m \u001b[0mbatch_size\u001b[0m\u001b[1;33m=\u001b[0m\u001b[1;36m64\u001b[0m\u001b[1;33m,\u001b[0m \u001b[0mcallbacks\u001b[0m\u001b[1;33m=\u001b[0m\u001b[1;33m[\u001b[0m\u001b[0mcheckpoint\u001b[0m\u001b[1;33m,\u001b[0m \u001b[0mes\u001b[0m\u001b[1;33m]\u001b[0m\u001b[1;33m)\u001b[0m\u001b[1;33m\u001b[0m\u001b[1;33m\u001b[0m\u001b[0m\n\u001b[0m",
      "\u001b[1;32mc:\\users\\joseph\\appdata\\local\\programs\\python\\python37\\lib\\site-packages\\keras\\engine\\training.py\u001b[0m in \u001b[0;36mfit\u001b[1;34m(self, x, y, batch_size, epochs, verbose, callbacks, validation_split, validation_data, shuffle, class_weight, sample_weight, initial_epoch, steps_per_epoch, validation_steps, validation_freq, max_queue_size, workers, use_multiprocessing, **kwargs)\u001b[0m\n\u001b[0;32m   1237\u001b[0m                                         \u001b[0msteps_per_epoch\u001b[0m\u001b[1;33m=\u001b[0m\u001b[0msteps_per_epoch\u001b[0m\u001b[1;33m,\u001b[0m\u001b[1;33m\u001b[0m\u001b[1;33m\u001b[0m\u001b[0m\n\u001b[0;32m   1238\u001b[0m                                         \u001b[0mvalidation_steps\u001b[0m\u001b[1;33m=\u001b[0m\u001b[0mvalidation_steps\u001b[0m\u001b[1;33m,\u001b[0m\u001b[1;33m\u001b[0m\u001b[1;33m\u001b[0m\u001b[0m\n\u001b[1;32m-> 1239\u001b[1;33m                                         validation_freq=validation_freq)\n\u001b[0m\u001b[0;32m   1240\u001b[0m \u001b[1;33m\u001b[0m\u001b[0m\n\u001b[0;32m   1241\u001b[0m     def evaluate(self,\n",
      "\u001b[1;32mc:\\users\\joseph\\appdata\\local\\programs\\python\\python37\\lib\\site-packages\\keras\\engine\\training_arrays.py\u001b[0m in \u001b[0;36mfit_loop\u001b[1;34m(model, fit_function, fit_inputs, out_labels, batch_size, epochs, verbose, callbacks, val_function, val_inputs, shuffle, initial_epoch, steps_per_epoch, validation_steps, validation_freq)\u001b[0m\n\u001b[0;32m    194\u001b[0m                     \u001b[0mins_batch\u001b[0m\u001b[1;33m[\u001b[0m\u001b[0mi\u001b[0m\u001b[1;33m]\u001b[0m \u001b[1;33m=\u001b[0m \u001b[0mins_batch\u001b[0m\u001b[1;33m[\u001b[0m\u001b[0mi\u001b[0m\u001b[1;33m]\u001b[0m\u001b[1;33m.\u001b[0m\u001b[0mtoarray\u001b[0m\u001b[1;33m(\u001b[0m\u001b[1;33m)\u001b[0m\u001b[1;33m\u001b[0m\u001b[1;33m\u001b[0m\u001b[0m\n\u001b[0;32m    195\u001b[0m \u001b[1;33m\u001b[0m\u001b[0m\n\u001b[1;32m--> 196\u001b[1;33m                 \u001b[0mouts\u001b[0m \u001b[1;33m=\u001b[0m \u001b[0mfit_function\u001b[0m\u001b[1;33m(\u001b[0m\u001b[0mins_batch\u001b[0m\u001b[1;33m)\u001b[0m\u001b[1;33m\u001b[0m\u001b[1;33m\u001b[0m\u001b[0m\n\u001b[0m\u001b[0;32m    197\u001b[0m                 \u001b[0mouts\u001b[0m \u001b[1;33m=\u001b[0m \u001b[0mto_list\u001b[0m\u001b[1;33m(\u001b[0m\u001b[0mouts\u001b[0m\u001b[1;33m)\u001b[0m\u001b[1;33m\u001b[0m\u001b[1;33m\u001b[0m\u001b[0m\n\u001b[0;32m    198\u001b[0m                 \u001b[1;32mfor\u001b[0m \u001b[0ml\u001b[0m\u001b[1;33m,\u001b[0m \u001b[0mo\u001b[0m \u001b[1;32min\u001b[0m \u001b[0mzip\u001b[0m\u001b[1;33m(\u001b[0m\u001b[0mout_labels\u001b[0m\u001b[1;33m,\u001b[0m \u001b[0mouts\u001b[0m\u001b[1;33m)\u001b[0m\u001b[1;33m:\u001b[0m\u001b[1;33m\u001b[0m\u001b[1;33m\u001b[0m\u001b[0m\n",
      "\u001b[1;32mc:\\users\\joseph\\appdata\\local\\programs\\python\\python37\\lib\\site-packages\\tensorflow_core\\python\\keras\\backend.py\u001b[0m in \u001b[0;36m__call__\u001b[1;34m(self, inputs)\u001b[0m\n\u001b[0;32m   3738\u001b[0m         \u001b[0mvalue\u001b[0m \u001b[1;33m=\u001b[0m \u001b[0mmath_ops\u001b[0m\u001b[1;33m.\u001b[0m\u001b[0mcast\u001b[0m\u001b[1;33m(\u001b[0m\u001b[0mvalue\u001b[0m\u001b[1;33m,\u001b[0m \u001b[0mtensor\u001b[0m\u001b[1;33m.\u001b[0m\u001b[0mdtype\u001b[0m\u001b[1;33m)\u001b[0m\u001b[1;33m\u001b[0m\u001b[1;33m\u001b[0m\u001b[0m\n\u001b[0;32m   3739\u001b[0m       \u001b[0mconverted_inputs\u001b[0m\u001b[1;33m.\u001b[0m\u001b[0mappend\u001b[0m\u001b[1;33m(\u001b[0m\u001b[0mvalue\u001b[0m\u001b[1;33m)\u001b[0m\u001b[1;33m\u001b[0m\u001b[1;33m\u001b[0m\u001b[0m\n\u001b[1;32m-> 3740\u001b[1;33m     \u001b[0moutputs\u001b[0m \u001b[1;33m=\u001b[0m \u001b[0mself\u001b[0m\u001b[1;33m.\u001b[0m\u001b[0m_graph_fn\u001b[0m\u001b[1;33m(\u001b[0m\u001b[1;33m*\u001b[0m\u001b[0mconverted_inputs\u001b[0m\u001b[1;33m)\u001b[0m\u001b[1;33m\u001b[0m\u001b[1;33m\u001b[0m\u001b[0m\n\u001b[0m\u001b[0;32m   3741\u001b[0m \u001b[1;33m\u001b[0m\u001b[0m\n\u001b[0;32m   3742\u001b[0m     \u001b[1;31m# EagerTensor.numpy() will often make a copy to ensure memory safety.\u001b[0m\u001b[1;33m\u001b[0m\u001b[1;33m\u001b[0m\u001b[1;33m\u001b[0m\u001b[0m\n",
      "\u001b[1;32mc:\\users\\joseph\\appdata\\local\\programs\\python\\python37\\lib\\site-packages\\tensorflow_core\\python\\eager\\function.py\u001b[0m in \u001b[0;36m__call__\u001b[1;34m(self, *args, **kwargs)\u001b[0m\n\u001b[0;32m   1079\u001b[0m       \u001b[0mTypeError\u001b[0m\u001b[1;33m:\u001b[0m \u001b[0mFor\u001b[0m \u001b[0minvalid\u001b[0m \u001b[0mpositional\u001b[0m\u001b[1;33m/\u001b[0m\u001b[0mkeyword\u001b[0m \u001b[0margument\u001b[0m \u001b[0mcombinations\u001b[0m\u001b[1;33m.\u001b[0m\u001b[1;33m\u001b[0m\u001b[1;33m\u001b[0m\u001b[0m\n\u001b[0;32m   1080\u001b[0m     \"\"\"\n\u001b[1;32m-> 1081\u001b[1;33m     \u001b[1;32mreturn\u001b[0m \u001b[0mself\u001b[0m\u001b[1;33m.\u001b[0m\u001b[0m_call_impl\u001b[0m\u001b[1;33m(\u001b[0m\u001b[0margs\u001b[0m\u001b[1;33m,\u001b[0m \u001b[0mkwargs\u001b[0m\u001b[1;33m)\u001b[0m\u001b[1;33m\u001b[0m\u001b[1;33m\u001b[0m\u001b[0m\n\u001b[0m\u001b[0;32m   1082\u001b[0m \u001b[1;33m\u001b[0m\u001b[0m\n\u001b[0;32m   1083\u001b[0m   \u001b[1;32mdef\u001b[0m \u001b[0m_call_impl\u001b[0m\u001b[1;33m(\u001b[0m\u001b[0mself\u001b[0m\u001b[1;33m,\u001b[0m \u001b[0margs\u001b[0m\u001b[1;33m,\u001b[0m \u001b[0mkwargs\u001b[0m\u001b[1;33m,\u001b[0m \u001b[0mcancellation_manager\u001b[0m\u001b[1;33m=\u001b[0m\u001b[1;32mNone\u001b[0m\u001b[1;33m)\u001b[0m\u001b[1;33m:\u001b[0m\u001b[1;33m\u001b[0m\u001b[1;33m\u001b[0m\u001b[0m\n",
      "\u001b[1;32mc:\\users\\joseph\\appdata\\local\\programs\\python\\python37\\lib\\site-packages\\tensorflow_core\\python\\eager\\function.py\u001b[0m in \u001b[0;36m_call_impl\u001b[1;34m(self, args, kwargs, cancellation_manager)\u001b[0m\n\u001b[0;32m   1119\u001b[0m       raise TypeError(\"Keyword arguments {} unknown. Expected {}.\".format(\n\u001b[0;32m   1120\u001b[0m           list(kwargs.keys()), list(self._arg_keywords)))\n\u001b[1;32m-> 1121\u001b[1;33m     \u001b[1;32mreturn\u001b[0m \u001b[0mself\u001b[0m\u001b[1;33m.\u001b[0m\u001b[0m_call_flat\u001b[0m\u001b[1;33m(\u001b[0m\u001b[0margs\u001b[0m\u001b[1;33m,\u001b[0m \u001b[0mself\u001b[0m\u001b[1;33m.\u001b[0m\u001b[0mcaptured_inputs\u001b[0m\u001b[1;33m,\u001b[0m \u001b[0mcancellation_manager\u001b[0m\u001b[1;33m)\u001b[0m\u001b[1;33m\u001b[0m\u001b[1;33m\u001b[0m\u001b[0m\n\u001b[0m\u001b[0;32m   1122\u001b[0m \u001b[1;33m\u001b[0m\u001b[0m\n\u001b[0;32m   1123\u001b[0m   \u001b[1;32mdef\u001b[0m \u001b[0m_filtered_call\u001b[0m\u001b[1;33m(\u001b[0m\u001b[0mself\u001b[0m\u001b[1;33m,\u001b[0m \u001b[0margs\u001b[0m\u001b[1;33m,\u001b[0m \u001b[0mkwargs\u001b[0m\u001b[1;33m)\u001b[0m\u001b[1;33m:\u001b[0m\u001b[1;33m\u001b[0m\u001b[1;33m\u001b[0m\u001b[0m\n",
      "\u001b[1;32mc:\\users\\joseph\\appdata\\local\\programs\\python\\python37\\lib\\site-packages\\tensorflow_core\\python\\eager\\function.py\u001b[0m in \u001b[0;36m_call_flat\u001b[1;34m(self, args, captured_inputs, cancellation_manager)\u001b[0m\n\u001b[0;32m   1222\u001b[0m     \u001b[1;32mif\u001b[0m \u001b[0mexecuting_eagerly\u001b[0m\u001b[1;33m:\u001b[0m\u001b[1;33m\u001b[0m\u001b[1;33m\u001b[0m\u001b[0m\n\u001b[0;32m   1223\u001b[0m       flat_outputs = forward_function.call(\n\u001b[1;32m-> 1224\u001b[1;33m           ctx, args, cancellation_manager=cancellation_manager)\n\u001b[0m\u001b[0;32m   1225\u001b[0m     \u001b[1;32melse\u001b[0m\u001b[1;33m:\u001b[0m\u001b[1;33m\u001b[0m\u001b[1;33m\u001b[0m\u001b[0m\n\u001b[0;32m   1226\u001b[0m       \u001b[0mgradient_name\u001b[0m \u001b[1;33m=\u001b[0m \u001b[0mself\u001b[0m\u001b[1;33m.\u001b[0m\u001b[0m_delayed_rewrite_functions\u001b[0m\u001b[1;33m.\u001b[0m\u001b[0mregister\u001b[0m\u001b[1;33m(\u001b[0m\u001b[1;33m)\u001b[0m\u001b[1;33m\u001b[0m\u001b[1;33m\u001b[0m\u001b[0m\n",
      "\u001b[1;32mc:\\users\\joseph\\appdata\\local\\programs\\python\\python37\\lib\\site-packages\\tensorflow_core\\python\\eager\\function.py\u001b[0m in \u001b[0;36mcall\u001b[1;34m(self, ctx, args, cancellation_manager)\u001b[0m\n\u001b[0;32m    509\u001b[0m               \u001b[0minputs\u001b[0m\u001b[1;33m=\u001b[0m\u001b[0margs\u001b[0m\u001b[1;33m,\u001b[0m\u001b[1;33m\u001b[0m\u001b[1;33m\u001b[0m\u001b[0m\n\u001b[0;32m    510\u001b[0m               \u001b[0mattrs\u001b[0m\u001b[1;33m=\u001b[0m\u001b[1;33m(\u001b[0m\u001b[1;34m\"executor_type\"\u001b[0m\u001b[1;33m,\u001b[0m \u001b[0mexecutor_type\u001b[0m\u001b[1;33m,\u001b[0m \u001b[1;34m\"config_proto\"\u001b[0m\u001b[1;33m,\u001b[0m \u001b[0mconfig\u001b[0m\u001b[1;33m)\u001b[0m\u001b[1;33m,\u001b[0m\u001b[1;33m\u001b[0m\u001b[1;33m\u001b[0m\u001b[0m\n\u001b[1;32m--> 511\u001b[1;33m               ctx=ctx)\n\u001b[0m\u001b[0;32m    512\u001b[0m         \u001b[1;32melse\u001b[0m\u001b[1;33m:\u001b[0m\u001b[1;33m\u001b[0m\u001b[1;33m\u001b[0m\u001b[0m\n\u001b[0;32m    513\u001b[0m           outputs = execute.execute_with_cancellation(\n",
      "\u001b[1;32mc:\\users\\joseph\\appdata\\local\\programs\\python\\python37\\lib\\site-packages\\tensorflow_core\\python\\eager\\execute.py\u001b[0m in \u001b[0;36mquick_execute\u001b[1;34m(op_name, num_outputs, inputs, attrs, ctx, name)\u001b[0m\n\u001b[0;32m     59\u001b[0m     tensors = pywrap_tensorflow.TFE_Py_Execute(ctx._handle, device_name,\n\u001b[0;32m     60\u001b[0m                                                \u001b[0mop_name\u001b[0m\u001b[1;33m,\u001b[0m \u001b[0minputs\u001b[0m\u001b[1;33m,\u001b[0m \u001b[0mattrs\u001b[0m\u001b[1;33m,\u001b[0m\u001b[1;33m\u001b[0m\u001b[1;33m\u001b[0m\u001b[0m\n\u001b[1;32m---> 61\u001b[1;33m                                                num_outputs)\n\u001b[0m\u001b[0;32m     62\u001b[0m   \u001b[1;32mexcept\u001b[0m \u001b[0mcore\u001b[0m\u001b[1;33m.\u001b[0m\u001b[0m_NotOkStatusException\u001b[0m \u001b[1;32mas\u001b[0m \u001b[0me\u001b[0m\u001b[1;33m:\u001b[0m\u001b[1;33m\u001b[0m\u001b[1;33m\u001b[0m\u001b[0m\n\u001b[0;32m     63\u001b[0m     \u001b[1;32mif\u001b[0m \u001b[0mname\u001b[0m \u001b[1;32mis\u001b[0m \u001b[1;32mnot\u001b[0m \u001b[1;32mNone\u001b[0m\u001b[1;33m:\u001b[0m\u001b[1;33m\u001b[0m\u001b[1;33m\u001b[0m\u001b[0m\n",
      "\u001b[1;31mKeyboardInterrupt\u001b[0m: "
     ]
    }
   ],
   "source": [
    "# Save model with best accuracy.\n",
    "save_path = os.path.join(DIR, 'model-{epoch:03d}-{loss:.4f}.h5')\n",
    "checkpoint = ModelCheckpoint(save_path, monitor='loss', verbose=1, save_best_only=True, mode='min')\n",
    "# Early stopping condition. Stop when loss has stopped decreasing for 10 epochs.\n",
    "es = EarlyStopping(monitor='loss', mode='min', verbose=1, patience=10)\n",
    "model.fit(X, Y, epochs=1000, batch_size=64, callbacks=[checkpoint, es])"
   ]
  },
  {
   "cell_type": "code",
   "execution_count": null,
   "metadata": {},
   "outputs": [],
   "source": []
  }
 ],
 "metadata": {
  "kernelspec": {
   "display_name": "Python 3",
   "language": "python",
   "name": "python3"
  },
  "language_info": {
   "codemirror_mode": {
    "name": "ipython",
    "version": 3
   },
   "file_extension": ".py",
   "mimetype": "text/x-python",
   "name": "python",
   "nbconvert_exporter": "python",
   "pygments_lexer": "ipython3",
   "version": "3.7.4"
  }
 },
 "nbformat": 4,
 "nbformat_minor": 4
}
